{
 "cells": [
  {
   "cell_type": "code",
   "execution_count": 1,
   "id": "53a58761-af54-4703-8900-deb3166a444c",
   "metadata": {},
   "outputs": [],
   "source": [
    "import pandas as pd\n",
    "import matplotlib.pyplot as plt\n",
    "import pandas as pd\n",
    "import seaborn as sns\n",
    "from imblearn.over_sampling import RandomOverSampler\n",
    "from imblearn.under_sampling import RandomUnderSampler\n",
    "from sklearn.impute import SimpleImputer\n",
    "from sklearn.metrics import ConfusionMatrixDisplay\n",
    "from sklearn.model_selection import train_test_split\n",
    "from sklearn.pipeline import make_pipeline\n",
    "from sklearn.tree import DecisionTreeClassifier\n",
    "import glob\n",
    "import os"
   ]
  },
  {
   "cell_type": "code",
   "execution_count": 2,
   "id": "9fd08871-bca8-47bf-af1f-36501d6be203",
   "metadata": {},
   "outputs": [],
   "source": [
    "# Define the path to the CSV files\n",
    "path = r\"C:\\Users\\shubh\\Documents\\SME Data\"\n",
    "\n",
    "csv_files = glob.glob(os.path.join(path, \"*.csv\"))\n",
    "data_frames = []\n",
    "\n",
    "for file in csv_files:\n",
    "    data = pd.read_csv(file)\n",
    "    data_frames.append(data)\n",
    "    \n",
    "combined_data = pd.concat(data_frames, ignore_index=True)\n",
    "\n",
    "combined_data.to_csv(os.path.join(path, 'combined_file.csv'), index=False)"
   ]
  },
  {
   "cell_type": "code",
   "execution_count": 3,
   "id": "5dde8af6-3432-4696-8169-15f27bbe40b8",
   "metadata": {},
   "outputs": [
    {
     "data": {
      "text/html": [
       "<div>\n",
       "<style scoped>\n",
       "    .dataframe tbody tr th:only-of-type {\n",
       "        vertical-align: middle;\n",
       "    }\n",
       "\n",
       "    .dataframe tbody tr th {\n",
       "        vertical-align: top;\n",
       "    }\n",
       "\n",
       "    .dataframe thead th {\n",
       "        text-align: right;\n",
       "    }\n",
       "</style>\n",
       "<table border=\"1\" class=\"dataframe\">\n",
       "  <thead>\n",
       "    <tr style=\"text-align: right;\">\n",
       "      <th></th>\n",
       "      <th>Company Name</th>\n",
       "      <th>Exchange</th>\n",
       "      <th>Issue Open</th>\n",
       "      <th>Issue Close</th>\n",
       "      <th>Issue Price (Rs)</th>\n",
       "      <th>Issuer Company</th>\n",
       "      <th>Open Date</th>\n",
       "      <th>Close Date</th>\n",
       "      <th>Listing Date</th>\n",
       "      <th>Lead Manager</th>\n",
       "      <th>Market Maker</th>\n",
       "      <th>Issue Size (Rs Cr.)</th>\n",
       "      <th>Lot Size</th>\n",
       "      <th>Compare</th>\n",
       "      <th>Size (Rs Cr)</th>\n",
       "      <th>QIB (x)</th>\n",
       "      <th>NII (x)</th>\n",
       "      <th>Retail (x)</th>\n",
       "      <th>Total (x)</th>\n",
       "      <th>Applications</th>\n",
       "    </tr>\n",
       "  </thead>\n",
       "  <tbody>\n",
       "    <tr>\n",
       "      <th>0</th>\n",
       "      <td>TBI Corn Limited</td>\n",
       "      <td>NSE SME</td>\n",
       "      <td>May 31, 2024</td>\n",
       "      <td>Jun 04, 2024</td>\n",
       "      <td>94</td>\n",
       "      <td>NaN</td>\n",
       "      <td>NaN</td>\n",
       "      <td>NaN</td>\n",
       "      <td>NaN</td>\n",
       "      <td>NaN</td>\n",
       "      <td>NaN</td>\n",
       "      <td>NaN</td>\n",
       "      <td>NaN</td>\n",
       "      <td>NaN</td>\n",
       "      <td>NaN</td>\n",
       "      <td>NaN</td>\n",
       "      <td>NaN</td>\n",
       "      <td>NaN</td>\n",
       "      <td>NaN</td>\n",
       "      <td>NaN</td>\n",
       "    </tr>\n",
       "    <tr>\n",
       "      <th>1</th>\n",
       "      <td>Associated Coaters Limited</td>\n",
       "      <td>BSE SME</td>\n",
       "      <td>May 30, 2024</td>\n",
       "      <td>Jun 03, 2024</td>\n",
       "      <td>121</td>\n",
       "      <td>NaN</td>\n",
       "      <td>NaN</td>\n",
       "      <td>NaN</td>\n",
       "      <td>NaN</td>\n",
       "      <td>NaN</td>\n",
       "      <td>NaN</td>\n",
       "      <td>NaN</td>\n",
       "      <td>NaN</td>\n",
       "      <td>NaN</td>\n",
       "      <td>NaN</td>\n",
       "      <td>NaN</td>\n",
       "      <td>NaN</td>\n",
       "      <td>NaN</td>\n",
       "      <td>NaN</td>\n",
       "      <td>NaN</td>\n",
       "    </tr>\n",
       "    <tr>\n",
       "      <th>2</th>\n",
       "      <td>Aimtron Electronics Limited</td>\n",
       "      <td>NSE SME</td>\n",
       "      <td>May 30, 2024</td>\n",
       "      <td>Jun 03, 2024</td>\n",
       "      <td>161</td>\n",
       "      <td>NaN</td>\n",
       "      <td>NaN</td>\n",
       "      <td>NaN</td>\n",
       "      <td>NaN</td>\n",
       "      <td>NaN</td>\n",
       "      <td>NaN</td>\n",
       "      <td>NaN</td>\n",
       "      <td>NaN</td>\n",
       "      <td>NaN</td>\n",
       "      <td>NaN</td>\n",
       "      <td>NaN</td>\n",
       "      <td>NaN</td>\n",
       "      <td>NaN</td>\n",
       "      <td>NaN</td>\n",
       "      <td>NaN</td>\n",
       "    </tr>\n",
       "    <tr>\n",
       "      <th>3</th>\n",
       "      <td>Ztech India Limited</td>\n",
       "      <td>NSE SME</td>\n",
       "      <td>May 29, 2024</td>\n",
       "      <td>May 31, 2024</td>\n",
       "      <td>110</td>\n",
       "      <td>NaN</td>\n",
       "      <td>NaN</td>\n",
       "      <td>NaN</td>\n",
       "      <td>NaN</td>\n",
       "      <td>NaN</td>\n",
       "      <td>NaN</td>\n",
       "      <td>NaN</td>\n",
       "      <td>NaN</td>\n",
       "      <td>NaN</td>\n",
       "      <td>NaN</td>\n",
       "      <td>NaN</td>\n",
       "      <td>NaN</td>\n",
       "      <td>NaN</td>\n",
       "      <td>NaN</td>\n",
       "      <td>NaN</td>\n",
       "    </tr>\n",
       "    <tr>\n",
       "      <th>4</th>\n",
       "      <td>Beacon Trusteeship Limited</td>\n",
       "      <td>NSE SME</td>\n",
       "      <td>May 28, 2024</td>\n",
       "      <td>May 30, 2024</td>\n",
       "      <td>60</td>\n",
       "      <td>NaN</td>\n",
       "      <td>NaN</td>\n",
       "      <td>NaN</td>\n",
       "      <td>NaN</td>\n",
       "      <td>NaN</td>\n",
       "      <td>NaN</td>\n",
       "      <td>NaN</td>\n",
       "      <td>NaN</td>\n",
       "      <td>NaN</td>\n",
       "      <td>NaN</td>\n",
       "      <td>NaN</td>\n",
       "      <td>NaN</td>\n",
       "      <td>NaN</td>\n",
       "      <td>NaN</td>\n",
       "      <td>NaN</td>\n",
       "    </tr>\n",
       "    <tr>\n",
       "      <th>...</th>\n",
       "      <td>...</td>\n",
       "      <td>...</td>\n",
       "      <td>...</td>\n",
       "      <td>...</td>\n",
       "      <td>...</td>\n",
       "      <td>...</td>\n",
       "      <td>...</td>\n",
       "      <td>...</td>\n",
       "      <td>...</td>\n",
       "      <td>...</td>\n",
       "      <td>...</td>\n",
       "      <td>...</td>\n",
       "      <td>...</td>\n",
       "      <td>...</td>\n",
       "      <td>...</td>\n",
       "      <td>...</td>\n",
       "      <td>...</td>\n",
       "      <td>...</td>\n",
       "      <td>...</td>\n",
       "      <td>...</td>\n",
       "    </tr>\n",
       "    <tr>\n",
       "      <th>5327</th>\n",
       "      <td>Wise Travel India Limited</td>\n",
       "      <td>NaN</td>\n",
       "      <td>NaN</td>\n",
       "      <td>NaN</td>\n",
       "      <td>NaN</td>\n",
       "      <td>NaN</td>\n",
       "      <td>Feb 12, 2024</td>\n",
       "      <td>Feb 14, 2024</td>\n",
       "      <td>NaN</td>\n",
       "      <td>NaN</td>\n",
       "      <td>NaN</td>\n",
       "      <td>NaN</td>\n",
       "      <td>NaN</td>\n",
       "      <td>NaN</td>\n",
       "      <td>94.68</td>\n",
       "      <td>106.69</td>\n",
       "      <td>375.56</td>\n",
       "      <td>108.76</td>\n",
       "      <td>163.46</td>\n",
       "      <td>2,26,649 (108.76x)</td>\n",
       "    </tr>\n",
       "    <tr>\n",
       "      <th>5328</th>\n",
       "      <td>Polysil Irrigation Systems Limited</td>\n",
       "      <td>NaN</td>\n",
       "      <td>NaN</td>\n",
       "      <td>NaN</td>\n",
       "      <td>NaN</td>\n",
       "      <td>NaN</td>\n",
       "      <td>Feb 08, 2024</td>\n",
       "      <td>Feb 13, 2024</td>\n",
       "      <td>NaN</td>\n",
       "      <td>NaN</td>\n",
       "      <td>NaN</td>\n",
       "      <td>NaN</td>\n",
       "      <td>NaN</td>\n",
       "      <td>NaN</td>\n",
       "      <td>17.44</td>\n",
       "      <td>NaN</td>\n",
       "      <td>2.12</td>\n",
       "      <td>11.62</td>\n",
       "      <td>6.88</td>\n",
       "      <td>8,898 (11.62x)</td>\n",
       "    </tr>\n",
       "    <tr>\n",
       "      <th>5329</th>\n",
       "      <td>Rudra Gas Enterprise Limited</td>\n",
       "      <td>NaN</td>\n",
       "      <td>NaN</td>\n",
       "      <td>NaN</td>\n",
       "      <td>NaN</td>\n",
       "      <td>NaN</td>\n",
       "      <td>Feb 08, 2024</td>\n",
       "      <td>Feb 12, 2024</td>\n",
       "      <td>NaN</td>\n",
       "      <td>NaN</td>\n",
       "      <td>NaN</td>\n",
       "      <td>NaN</td>\n",
       "      <td>NaN</td>\n",
       "      <td>NaN</td>\n",
       "      <td>14.16</td>\n",
       "      <td>NaN</td>\n",
       "      <td>286.62</td>\n",
       "      <td>404.38</td>\n",
       "      <td>350.75</td>\n",
       "      <td>2,53,183 (475.02x)</td>\n",
       "    </tr>\n",
       "    <tr>\n",
       "      <th>5330</th>\n",
       "      <td>Alpex Solar Limited</td>\n",
       "      <td>NaN</td>\n",
       "      <td>NaN</td>\n",
       "      <td>NaN</td>\n",
       "      <td>NaN</td>\n",
       "      <td>NaN</td>\n",
       "      <td>Feb 08, 2024</td>\n",
       "      <td>Feb 12, 2024</td>\n",
       "      <td>NaN</td>\n",
       "      <td>NaN</td>\n",
       "      <td>NaN</td>\n",
       "      <td>NaN</td>\n",
       "      <td>NaN</td>\n",
       "      <td>NaN</td>\n",
       "      <td>74.52</td>\n",
       "      <td>141.48</td>\n",
       "      <td>502.31</td>\n",
       "      <td>351.89</td>\n",
       "      <td>324.03</td>\n",
       "      <td>6,31,993 (351.89x)</td>\n",
       "    </tr>\n",
       "    <tr>\n",
       "      <th>5331</th>\n",
       "      <td>Italian Edibles Limited</td>\n",
       "      <td>NaN</td>\n",
       "      <td>NaN</td>\n",
       "      <td>NaN</td>\n",
       "      <td>NaN</td>\n",
       "      <td>NaN</td>\n",
       "      <td>Feb 02, 2024</td>\n",
       "      <td>Feb 07, 2024</td>\n",
       "      <td>NaN</td>\n",
       "      <td>NaN</td>\n",
       "      <td>NaN</td>\n",
       "      <td>NaN</td>\n",
       "      <td>NaN</td>\n",
       "      <td>NaN</td>\n",
       "      <td>26.66</td>\n",
       "      <td>NaN</td>\n",
       "      <td>177.37</td>\n",
       "      <td>120.62</td>\n",
       "      <td>154.43</td>\n",
       "      <td>1,12,178 (120.62x)</td>\n",
       "    </tr>\n",
       "  </tbody>\n",
       "</table>\n",
       "<p>5332 rows × 20 columns</p>\n",
       "</div>"
      ],
      "text/plain": [
       "                            Company Name Exchange    Issue Open   Issue Close  \\\n",
       "0                       TBI Corn Limited  NSE SME  May 31, 2024  Jun 04, 2024   \n",
       "1             Associated Coaters Limited  BSE SME  May 30, 2024  Jun 03, 2024   \n",
       "2            Aimtron Electronics Limited  NSE SME  May 30, 2024  Jun 03, 2024   \n",
       "3                    Ztech India Limited  NSE SME  May 29, 2024  May 31, 2024   \n",
       "4             Beacon Trusteeship Limited  NSE SME  May 28, 2024  May 30, 2024   \n",
       "...                                  ...      ...           ...           ...   \n",
       "5327           Wise Travel India Limited      NaN           NaN           NaN   \n",
       "5328  Polysil Irrigation Systems Limited      NaN           NaN           NaN   \n",
       "5329        Rudra Gas Enterprise Limited      NaN           NaN           NaN   \n",
       "5330                 Alpex Solar Limited      NaN           NaN           NaN   \n",
       "5331             Italian Edibles Limited      NaN           NaN           NaN   \n",
       "\n",
       "     Issue Price (Rs) Issuer Company     Open Date    Close Date Listing Date  \\\n",
       "0                  94            NaN           NaN           NaN          NaN   \n",
       "1                 121            NaN           NaN           NaN          NaN   \n",
       "2                 161            NaN           NaN           NaN          NaN   \n",
       "3                 110            NaN           NaN           NaN          NaN   \n",
       "4                  60            NaN           NaN           NaN          NaN   \n",
       "...               ...            ...           ...           ...          ...   \n",
       "5327              NaN            NaN  Feb 12, 2024  Feb 14, 2024          NaN   \n",
       "5328              NaN            NaN  Feb 08, 2024  Feb 13, 2024          NaN   \n",
       "5329              NaN            NaN  Feb 08, 2024  Feb 12, 2024          NaN   \n",
       "5330              NaN            NaN  Feb 08, 2024  Feb 12, 2024          NaN   \n",
       "5331              NaN            NaN  Feb 02, 2024  Feb 07, 2024          NaN   \n",
       "\n",
       "     Lead Manager Market Maker Issue Size (Rs Cr.) Lot Size  Compare  \\\n",
       "0             NaN          NaN                 NaN      NaN      NaN   \n",
       "1             NaN          NaN                 NaN      NaN      NaN   \n",
       "2             NaN          NaN                 NaN      NaN      NaN   \n",
       "3             NaN          NaN                 NaN      NaN      NaN   \n",
       "4             NaN          NaN                 NaN      NaN      NaN   \n",
       "...           ...          ...                 ...      ...      ...   \n",
       "5327          NaN          NaN                 NaN      NaN      NaN   \n",
       "5328          NaN          NaN                 NaN      NaN      NaN   \n",
       "5329          NaN          NaN                 NaN      NaN      NaN   \n",
       "5330          NaN          NaN                 NaN      NaN      NaN   \n",
       "5331          NaN          NaN                 NaN      NaN      NaN   \n",
       "\n",
       "      Size (Rs Cr)  QIB (x)  NII (x)  Retail (x)  Total (x)  \\\n",
       "0              NaN      NaN      NaN         NaN        NaN   \n",
       "1              NaN      NaN      NaN         NaN        NaN   \n",
       "2              NaN      NaN      NaN         NaN        NaN   \n",
       "3              NaN      NaN      NaN         NaN        NaN   \n",
       "4              NaN      NaN      NaN         NaN        NaN   \n",
       "...            ...      ...      ...         ...        ...   \n",
       "5327         94.68   106.69   375.56      108.76     163.46   \n",
       "5328         17.44      NaN     2.12       11.62       6.88   \n",
       "5329         14.16      NaN   286.62      404.38     350.75   \n",
       "5330         74.52   141.48   502.31      351.89     324.03   \n",
       "5331         26.66      NaN   177.37      120.62     154.43   \n",
       "\n",
       "            Applications  \n",
       "0                    NaN  \n",
       "1                    NaN  \n",
       "2                    NaN  \n",
       "3                    NaN  \n",
       "4                    NaN  \n",
       "...                  ...  \n",
       "5327  2,26,649 (108.76x)  \n",
       "5328      8,898 (11.62x)  \n",
       "5329  2,53,183 (475.02x)  \n",
       "5330  6,31,993 (351.89x)  \n",
       "5331  1,12,178 (120.62x)  \n",
       "\n",
       "[5332 rows x 20 columns]"
      ]
     },
     "execution_count": 3,
     "metadata": {},
     "output_type": "execute_result"
    }
   ],
   "source": [
    "combined_data.head(-20)"
   ]
  },
  {
   "cell_type": "code",
   "execution_count": 4,
   "id": "0c163743-de69-49b2-8c9e-0fb9f33ffb4f",
   "metadata": {},
   "outputs": [
    {
     "name": "stdout",
     "output_type": "stream",
     "text": [
      "<class 'pandas.core.frame.DataFrame'>\n",
      "RangeIndex: 5352 entries, 0 to 5351\n",
      "Data columns (total 20 columns):\n",
      " #   Column               Non-Null Count  Dtype  \n",
      "---  ------               --------------  -----  \n",
      " 0   Company Name         800 non-null    object \n",
      " 1   Exchange             4940 non-null   object \n",
      " 2   Issue Open           388 non-null    object \n",
      " 3   Issue Close          388 non-null    object \n",
      " 4   Issue Price (Rs)     4936 non-null   object \n",
      " 5   Issuer Company       4552 non-null   object \n",
      " 6   Open Date            4960 non-null   object \n",
      " 7   Close Date           4964 non-null   object \n",
      " 8   Listing Date         2556 non-null   object \n",
      " 9   Lead Manager         4524 non-null   object \n",
      " 10  Market Maker         1244 non-null   object \n",
      " 11  Issue Size (Rs Cr.)  4548 non-null   object \n",
      " 12  Lot Size             4468 non-null   object \n",
      " 13  Compare              0 non-null      float64\n",
      " 14  Size (Rs Cr)         412 non-null    float64\n",
      " 15  QIB (x)              244 non-null    float64\n",
      " 16  NII (x)              412 non-null    float64\n",
      " 17  Retail (x)           412 non-null    float64\n",
      " 18  Total (x)            412 non-null    float64\n",
      " 19  Applications         408 non-null    object \n",
      "dtypes: float64(6), object(14)\n",
      "memory usage: 836.4+ KB\n"
     ]
    }
   ],
   "source": [
    "combined_data.info()"
   ]
  },
  {
   "cell_type": "code",
   "execution_count": 5,
   "id": "17a8ed04-e643-47c0-960b-324b3d48319a",
   "metadata": {},
   "outputs": [],
   "source": [
    "combined_data.drop(columns=[\"Compare\", \"Issue Open\", \"Issue Close\", \"Size (Rs Cr)\", \"QIB (x)\", \"NII (x)\", \"Retail (x)\", \"Total (x)\", \"Applications\"], inplace = True)"
   ]
  },
  {
   "cell_type": "code",
   "execution_count": 6,
   "id": "67c41af5-5146-4f03-8198-6ea388292df1",
   "metadata": {},
   "outputs": [],
   "source": [
    "combined_data['Lot Size'] = combined_data['Lot Size'].str.replace(',', '').astype(float)"
   ]
  },
  {
   "cell_type": "code",
   "execution_count": 7,
   "id": "6ef2573e-3e0e-496e-b794-41e3f76cf77b",
   "metadata": {},
   "outputs": [],
   "source": [
    "def clean_issue_price(value):\n",
    "    if pd.isna(value):\n",
    "        return value\n",
    "    try:\n",
    "        return float(value)\n",
    "    except ValueError:\n",
    "        # Handle the range case\n",
    "        if 'to' in value:\n",
    "            low, high = value.split(' to ')\n",
    "            return (float(low) + float(high)) / 2\n",
    "        return float(value)"
   ]
  },
  {
   "cell_type": "code",
   "execution_count": 8,
   "id": "3bfb39c9-f31e-4248-a3ad-e965f1b4b39f",
   "metadata": {},
   "outputs": [],
   "source": [
    "combined_data['Issue Price (Rs)'] = combined_data['Issue Price (Rs)'].apply(clean_issue_price)"
   ]
  },
  {
   "cell_type": "code",
   "execution_count": 9,
   "id": "3309468f-2285-4408-a415-40992ea2fd3e",
   "metadata": {},
   "outputs": [
    {
     "name": "stdout",
     "output_type": "stream",
     "text": [
      "<class 'pandas.core.frame.DataFrame'>\n",
      "RangeIndex: 5352 entries, 0 to 5351\n",
      "Data columns (total 11 columns):\n",
      " #   Column               Non-Null Count  Dtype  \n",
      "---  ------               --------------  -----  \n",
      " 0   Company Name         800 non-null    object \n",
      " 1   Exchange             4940 non-null   object \n",
      " 2   Issue Price (Rs)     4936 non-null   float64\n",
      " 3   Issuer Company       4552 non-null   object \n",
      " 4   Open Date            4960 non-null   object \n",
      " 5   Close Date           4964 non-null   object \n",
      " 6   Listing Date         2556 non-null   object \n",
      " 7   Lead Manager         4524 non-null   object \n",
      " 8   Market Maker         1244 non-null   object \n",
      " 9   Issue Size (Rs Cr.)  4548 non-null   object \n",
      " 10  Lot Size             4468 non-null   float64\n",
      "dtypes: float64(2), object(9)\n",
      "memory usage: 460.1+ KB\n"
     ]
    }
   ],
   "source": [
    "combined_data.info()"
   ]
  },
  {
   "cell_type": "code",
   "execution_count": 10,
   "id": "70965ebc-2750-4efd-bd68-1ed1084087c3",
   "metadata": {},
   "outputs": [
    {
     "data": {
      "text/html": [
       "<div>\n",
       "<style scoped>\n",
       "    .dataframe tbody tr th:only-of-type {\n",
       "        vertical-align: middle;\n",
       "    }\n",
       "\n",
       "    .dataframe tbody tr th {\n",
       "        vertical-align: top;\n",
       "    }\n",
       "\n",
       "    .dataframe thead th {\n",
       "        text-align: right;\n",
       "    }\n",
       "</style>\n",
       "<table border=\"1\" class=\"dataframe\">\n",
       "  <thead>\n",
       "    <tr style=\"text-align: right;\">\n",
       "      <th></th>\n",
       "      <th>Company Name</th>\n",
       "      <th>Exchange</th>\n",
       "      <th>Issue Price (Rs)</th>\n",
       "      <th>Issuer Company</th>\n",
       "      <th>Open Date</th>\n",
       "      <th>Close Date</th>\n",
       "      <th>Listing Date</th>\n",
       "      <th>Lead Manager</th>\n",
       "      <th>Market Maker</th>\n",
       "      <th>Issue Size (Rs Cr.)</th>\n",
       "      <th>Lot Size</th>\n",
       "    </tr>\n",
       "  </thead>\n",
       "  <tbody>\n",
       "    <tr>\n",
       "      <th>0</th>\n",
       "      <td>TBI Corn Limited</td>\n",
       "      <td>NSE SME</td>\n",
       "      <td>94.0</td>\n",
       "      <td>NaN</td>\n",
       "      <td>NaN</td>\n",
       "      <td>NaN</td>\n",
       "      <td>NaN</td>\n",
       "      <td>NaN</td>\n",
       "      <td>NaN</td>\n",
       "      <td>NaN</td>\n",
       "      <td>NaN</td>\n",
       "    </tr>\n",
       "    <tr>\n",
       "      <th>1</th>\n",
       "      <td>Associated Coaters Limited</td>\n",
       "      <td>BSE SME</td>\n",
       "      <td>121.0</td>\n",
       "      <td>NaN</td>\n",
       "      <td>NaN</td>\n",
       "      <td>NaN</td>\n",
       "      <td>NaN</td>\n",
       "      <td>NaN</td>\n",
       "      <td>NaN</td>\n",
       "      <td>NaN</td>\n",
       "      <td>NaN</td>\n",
       "    </tr>\n",
       "    <tr>\n",
       "      <th>2</th>\n",
       "      <td>Aimtron Electronics Limited</td>\n",
       "      <td>NSE SME</td>\n",
       "      <td>161.0</td>\n",
       "      <td>NaN</td>\n",
       "      <td>NaN</td>\n",
       "      <td>NaN</td>\n",
       "      <td>NaN</td>\n",
       "      <td>NaN</td>\n",
       "      <td>NaN</td>\n",
       "      <td>NaN</td>\n",
       "      <td>NaN</td>\n",
       "    </tr>\n",
       "    <tr>\n",
       "      <th>3</th>\n",
       "      <td>Ztech India Limited</td>\n",
       "      <td>NSE SME</td>\n",
       "      <td>110.0</td>\n",
       "      <td>NaN</td>\n",
       "      <td>NaN</td>\n",
       "      <td>NaN</td>\n",
       "      <td>NaN</td>\n",
       "      <td>NaN</td>\n",
       "      <td>NaN</td>\n",
       "      <td>NaN</td>\n",
       "      <td>NaN</td>\n",
       "    </tr>\n",
       "    <tr>\n",
       "      <th>4</th>\n",
       "      <td>Beacon Trusteeship Limited</td>\n",
       "      <td>NSE SME</td>\n",
       "      <td>60.0</td>\n",
       "      <td>NaN</td>\n",
       "      <td>NaN</td>\n",
       "      <td>NaN</td>\n",
       "      <td>NaN</td>\n",
       "      <td>NaN</td>\n",
       "      <td>NaN</td>\n",
       "      <td>NaN</td>\n",
       "      <td>NaN</td>\n",
       "    </tr>\n",
       "  </tbody>\n",
       "</table>\n",
       "</div>"
      ],
      "text/plain": [
       "                  Company Name Exchange  Issue Price (Rs) Issuer Company  \\\n",
       "0             TBI Corn Limited  NSE SME              94.0            NaN   \n",
       "1   Associated Coaters Limited  BSE SME             121.0            NaN   \n",
       "2  Aimtron Electronics Limited  NSE SME             161.0            NaN   \n",
       "3          Ztech India Limited  NSE SME             110.0            NaN   \n",
       "4   Beacon Trusteeship Limited  NSE SME              60.0            NaN   \n",
       "\n",
       "  Open Date Close Date Listing Date Lead Manager Market Maker  \\\n",
       "0       NaN        NaN          NaN          NaN          NaN   \n",
       "1       NaN        NaN          NaN          NaN          NaN   \n",
       "2       NaN        NaN          NaN          NaN          NaN   \n",
       "3       NaN        NaN          NaN          NaN          NaN   \n",
       "4       NaN        NaN          NaN          NaN          NaN   \n",
       "\n",
       "  Issue Size (Rs Cr.)  Lot Size  \n",
       "0                 NaN       NaN  \n",
       "1                 NaN       NaN  \n",
       "2                 NaN       NaN  \n",
       "3                 NaN       NaN  \n",
       "4                 NaN       NaN  "
      ]
     },
     "execution_count": 10,
     "metadata": {},
     "output_type": "execute_result"
    }
   ],
   "source": [
    "combined_data.head()"
   ]
  },
  {
   "cell_type": "code",
   "execution_count": 11,
   "id": "f078de81-1786-4a7c-9d1a-ec66ca14ccca",
   "metadata": {},
   "outputs": [
    {
     "data": {
      "text/plain": [
       "<Axes: title={'center': 'IPOs listed on BSE/NSE'}, xlabel='Exchange', ylabel='Numbers'>"
      ]
     },
     "execution_count": 11,
     "metadata": {},
     "output_type": "execute_result"
    },
    {
     "data": {
      "image/png": "[encoded data removed]",
      "text/plain": [
       "<Figure size 640x480 with 1 Axes>"
      ]
     },
     "metadata": {},
     "output_type": "display_data"
    }
   ],
   "source": [
    "combined_data[\"Exchange\"].value_counts(normalize=True).plot(kind=\"bar\", xlabel = \"Exchange\", ylabel = \"Numbers\", title=\"IPOs listed on BSE/NSE\")"
   ]
  },
  {
   "cell_type": "code",
   "execution_count": 12,
   "id": "6126e80e-c335-4118-b781-488cb0d78918",
   "metadata": {},
   "outputs": [],
   "source": [
    "bins = [0, 500, 1000, 1500, 2000, 2500, 3000, 3500, 4000, 4500, 5000]\n",
    "labels = ['0-500', '500-1000', '1000-1500', '1500-2000', '2000-2500', '2500-3000', '3000-3500', '3500-4000', '4000-4500', '4500-5000']\n",
    "\n",
    "# Segment 'Lot Size' using pd.cut()\n",
    "combined_data['Lot Size Segment'] = pd.cut(combined_data['Lot Size'], bins=bins, labels=labels, right=False)"
   ]
  },
  {
   "cell_type": "code",
   "execution_count": 13,
   "id": "d9b89987-46cc-45a3-80a9-cbb4f9cbbeb8",
   "metadata": {
    "scrolled": true
   },
   "outputs": [
    {
     "name": "stdout",
     "output_type": "stream",
     "text": [
      "Lot Size Segment\n",
      "2000-2500    0.238889\n",
      "3000-3500    0.215556\n",
      "1000-1500    0.177778\n",
      "4000-4500    0.145556\n",
      "1500-2000    0.142222\n",
      "500-1000     0.070000\n",
      "0-500        0.010000\n",
      "2500-3000    0.000000\n",
      "3500-4000    0.000000\n",
      "4500-5000    0.000000\n",
      "Name: proportion, dtype: float64\n"
     ]
    }
   ],
   "source": [
    "print(combined_data['Lot Size Segment'].value_counts(normalize=True))"
   ]
  },
  {
   "cell_type": "code",
   "execution_count": 14,
   "id": "cd3dffbc-4fa4-4dd1-a874-8c32d72317e6",
   "metadata": {},
   "outputs": [],
   "source": [
    "bins = [500, 1000, 1500, 2000, 2500, 3000, 3500, 4000, 4500]\n",
    "labels = ['500-1000', '1000-1500', '1500-2000', '2000-2500', '2500-3000', '3000-3500', '3500-4000', '4000-4500']\n",
    "\n",
    "# Segment 'Lot Size' using pd.cut()\n",
    "combined_data['Lot Size Segment'] = pd.cut(combined_data['Lot Size'], bins=bins, labels=labels, right=False)\n",
    "combined_data = combined_data.sort_values(by='Lot Size Segment')"
   ]
  },
  {
   "cell_type": "code",
   "execution_count": 15,
   "id": "13382c7a-dced-4093-b987-9b9668c6884f",
   "metadata": {},
   "outputs": [
    {
     "data": {
      "text/plain": [
       "<Axes: title={'center': 'Lot size of IPOs listed on BSE/NSE'}, xlabel='Lot Size', ylabel='Number of IPOs'>"
      ]
     },
     "execution_count": 15,
     "metadata": {},
     "output_type": "execute_result"
    },
    {
     "data": {
      "image/png": "[encoded data removed]",
      "text/plain": [
       "<Figure size 640x480 with 1 Axes>"
      ]
     },
     "metadata": {},
     "output_type": "display_data"
    }
   ],
   "source": [
    "combined_data['Lot Size Segment'].value_counts().plot(kind=\"bar\", xlabel = \"Lot Size\", ylabel = \"Number of IPOs\", title=\"Lot size of IPOs listed on BSE/NSE\")"
   ]
  },
  {
   "cell_type": "code",
   "execution_count": 16,
   "id": "ec724832-e8cc-44a3-a6f3-910c87e44de8",
   "metadata": {},
   "outputs": [
    {
     "data": {
      "text/plain": [
       "1229.0"
      ]
     },
     "execution_count": 16,
     "metadata": {},
     "output_type": "execute_result"
    }
   ],
   "source": [
    "combined_data[\"Issue Price (Rs)\"].max()"
   ]
  },
  {
   "cell_type": "code",
   "execution_count": 17,
   "id": "f8e73847-da16-4190-be74-45ca135fdc21",
   "metadata": {},
   "outputs": [
    {
     "data": {
      "text/plain": [
       "10.0"
      ]
     },
     "execution_count": 17,
     "metadata": {},
     "output_type": "execute_result"
    }
   ],
   "source": [
    "combined_data[\"Issue Price (Rs)\"].min()"
   ]
  },
  {
   "cell_type": "code",
   "execution_count": 18,
   "id": "06ed9d10-cd19-404e-8c15-0a51282422a1",
   "metadata": {},
   "outputs": [],
   "source": [
    "bins = [0, 100, 200, 300, 400, 500, 600, 700, 800, 900, 1000, 1100, 1200, 1300]\n",
    "labels = ['0-100', '100-200', '200-300', '300-400', '400-500', '500-600', '600-700', '700-800', '800-900', '900-1000', '1000-1100', '1100-1200', '1200-1300']\n",
    "\n",
    "# Segment using pd.cut()\n",
    "combined_data['Issue Price (Rs) Segment'] = pd.cut(combined_data['Issue Price (Rs)'], bins=bins, labels=labels, right=False)"
   ]
  },
  {
   "cell_type": "code",
   "execution_count": 20,
   "id": "4177da08-caf9-4116-a793-c621a5c45aaa",
   "metadata": {},
   "outputs": [
    {
     "name": "stdout",
     "output_type": "stream",
     "text": [
      "Issue Price (Rs) Segment\n",
      "0-100        0.804700\n",
      "100-200      0.167747\n",
      "200-300      0.020259\n",
      "300-400      0.004052\n",
      "400-500      0.000810\n",
      "700-800      0.000810\n",
      "900-1000     0.000810\n",
      "1200-1300    0.000810\n",
      "500-600      0.000000\n",
      "600-700      0.000000\n",
      "800-900      0.000000\n",
      "1000-1100    0.000000\n",
      "1100-1200    0.000000\n",
      "Name: proportion, dtype: float64\n"
     ]
    }
   ],
   "source": [
    "print(combined_data['Issue Price (Rs) Segment'].value_counts(normalize=True))"
   ]
  },
  {
   "cell_type": "code",
   "execution_count": 24,
   "id": "f61a149f-13ff-4318-ae10-dd7c0dc8eb15",
   "metadata": {},
   "outputs": [],
   "source": [
    "bins = [0, 100, 200, 300, 400, 1200, 1300]\n",
    "labels = ['0-100', '100-200', '200-300', '300-400', '400-500', '1200-1300']\n",
    "\n",
    "# Segment using pd.cut()\n",
    "combined_data['Issue Price (Rs) Segment'] = pd.cut(combined_data['Issue Price (Rs)'], bins=bins, labels=labels, right=False)"
   ]
  },
  {
   "cell_type": "code",
   "execution_count": 25,
   "id": "36612a72-2f4e-4381-a330-1698d1fffff7",
   "metadata": {},
   "outputs": [
    {
     "data": {
      "text/plain": [
       "<Axes: title={'center': 'Issue Price (Rs) Segment of IPOs listed on BSE/NSE'}, xlabel='Price range', ylabel='Number of IPOs'>"
      ]
     },
     "execution_count": 25,
     "metadata": {},
     "output_type": "execute_result"
    },
    {
     "data": {
      "image/png": "[encoded data removed]",
      "text/plain": [
       "<Figure size 640x480 with 1 Axes>"
      ]
     },
     "metadata": {},
     "output_type": "display_data"
    }
   ],
   "source": [
    "combined_data['Issue Price (Rs) Segment'].value_counts().plot(kind=\"bar\", xlabel = \"Price range\", ylabel = \"Number of IPOs\", title=\"Issue Price (Rs) Segment of IPOs listed on BSE/NSE\")"
   ]
  },
  {
   "cell_type": "code",
   "execution_count": null,
   "id": "84f6df9e-6439-4d00-9543-645036ae7f13",
   "metadata": {},
   "outputs": [],
   "source": []
  }
 ],
 "metadata": {
  "kernelspec": {
   "display_name": "Python 3 (ipykernel)",
   "language": "python",
   "name": "python3"
  },
  "language_info": {
   "codemirror_mode": {
    "name": "ipython",
    "version": 3
   },
   "file_extension": ".py",
   "mimetype": "text/x-python",
   "name": "python",
   "nbconvert_exporter": "python",
   "pygments_lexer": "ipython3",
   "version": "3.11.7"
  }
 },
 "nbformat": 4,
 "nbformat_minor": 5
}
